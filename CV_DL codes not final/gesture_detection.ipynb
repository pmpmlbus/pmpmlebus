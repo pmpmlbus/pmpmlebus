{
 "cells": [
  {
   "cell_type": "markdown",
   "metadata": {},
   "source": [
    "#### Data set form \n",
    "https://www.kaggle.com/datasets/tapakah68/facial-emotion-recognition"
   ]
  },
  {
   "cell_type": "code",
   "execution_count": 192,
   "metadata": {},
   "outputs": [],
   "source": [
    "import numpy as np\n",
    "import os\n",
    "import pandas as pd\n",
    "import matplotlib.pyplot as plt\n",
    "import tensorflow as tf\n",
    "from tensorflow.keras import Sequential\n",
    "from tensorflow.keras.layers import InputLayer, Conv2D, MaxPool2D, Dense, Flatten\n",
    "import cv2"
   ]
  },
  {
   "cell_type": "code",
   "execution_count": 193,
   "metadata": {},
   "outputs": [],
   "source": [
    "# y_vals = {'angry' : 0, 'fear' : 1, 'happy' : 2, 'surprise' : 3}"
   ]
  },
  {
   "cell_type": "code",
   "execution_count": 194,
   "metadata": {},
   "outputs": [],
   "source": [
    "# dir_to_find = 'validation'\n",
    "\n",
    "# labels = os.listdir(f'./gesture_2/images/{dir_to_find}/')\n",
    "# x = []\n",
    "# y = []\n",
    "\n",
    "# for i in labels:\n",
    "#     print(i)\n",
    "#     for j in os.listdir(f'./gesture_2/images/{dir_to_find}/{i}'):\n",
    "#         img = cv2.imread(f'./gesture_2/images/{dir_to_find}/{i}/{j}', cv2.IMREAD_GRAYSCALE)\n",
    "#         x.append(img)\n",
    "#         y.append(y_vals[i])\n",
    "\n",
    "\n",
    "# x = np.array(x)\n",
    "# y = np.array(y)"
   ]
  },
  {
   "cell_type": "code",
   "execution_count": 195,
   "metadata": {},
   "outputs": [],
   "source": [
    "# np.save('./train_gesture.npy' , x)\n",
    "# np.save('./train_gesture_labels.npy' , y)\n",
    "\n",
    "# np.save('./validation_gesture.npy' , x)\n",
    "# np.save('./validation_gesture_labels.npy' , y)"
   ]
  },
  {
   "cell_type": "code",
   "execution_count": 196,
   "metadata": {},
   "outputs": [],
   "source": [
    "X_train = np.load('./train_gesture.npy')\n",
    "y_train = np.load('./train_gesture_labels.npy')\n",
    "\n",
    "val_x = np.load('./validation_gesture.npy')\n",
    "val_y = np.load('./validation_gesture_labels.npy')\n"
   ]
  },
  {
   "cell_type": "code",
   "execution_count": 197,
   "metadata": {},
   "outputs": [],
   "source": [
    "train_ds = tf.data.Dataset.from_tensor_slices((X_train, y_train)).shuffle(1000)\n",
    "val_ds = tf.data.Dataset.from_tensor_slices((val_x, val_y)).shuffle(1000)"
   ]
  },
  {
   "cell_type": "code",
   "execution_count": 198,
   "metadata": {},
   "outputs": [],
   "source": [
    "def show_img(x, y):\n",
    "    plt.gray()\n",
    "    plt.title(str(y))\n",
    "    plt.imshow(x)\n",
    "\n",
    "\n",
    "def reshape_train(train_ds):\n",
    "    return train_ds.map(lambda x, y: \n",
    "        (\n",
    "            tf.reshape(x , (48 , 48 , 1)) \n",
    "            , y\n",
    "        )\n",
    "    ).batch(32)\n",
    "\n",
    "def divide_into_train_and_val(val_ds_original, val_ratio = 0.8, test_ratio = 0.2):\n",
    "    \"\"\"\n",
    "        pass the train dataset we will use\n",
    "        train as -> train and val\n",
    "        train will be divided into\n",
    "        80% train and 20% val\n",
    "    \"\"\"\n",
    "    DATASET_SIZE = len(val_ds_original)\n",
    "\n",
    "    val_ds = val_ds_original.take(int(val_ratio * DATASET_SIZE)).map(lambda x, y: \n",
    "        (\n",
    "            tf.reshape(x , (48 , 48 , 1)) \n",
    "            , y\n",
    "        )\n",
    "    ).batch(32)\n",
    "\n",
    "    test_ds = val_ds_original.skip(int(val_ratio * DATASET_SIZE)).map(lambda x, y: \n",
    "        (\n",
    "            tf.reshape(x , (48 , 48 , 1)) \n",
    "            , y\n",
    "        )\n",
    "    )\n",
    "\n",
    "    return val_ds , test_ds"
   ]
  },
  {
   "cell_type": "code",
   "execution_count": 199,
   "metadata": {},
   "outputs": [],
   "source": [
    "val_ds , test_ds = divide_into_train_and_val(val_ds)\n",
    "train_ds = reshape_train(train_ds)"
   ]
  },
  {
   "cell_type": "code",
   "execution_count": 209,
   "metadata": {},
   "outputs": [],
   "source": [
    "model = Sequential([\n",
    "    Conv2D(filters = 16, kernel_size = (3 , 3), strides = 1, padding = 'same', activation = 'relu', input_shape = (48, 48, 1)),\n",
    "    MaxPool2D(pool_size = (2 , 2), strides = 2),\n",
    "    \n",
    "    Conv2D(filters = 32, kernel_size = (3 , 3), strides = 1, padding = 'same', activation = 'relu'),\n",
    "    MaxPool2D(pool_size = (2 , 2), strides = 2),\n",
    "\n",
    "    Conv2D(filters = 64, kernel_size = (3 , 3), strides = 1, padding = 'same', activation = 'relu'),\n",
    "    MaxPool2D(pool_size = (2 , 2), strides = 2),\n",
    "    \n",
    "    Flatten(),\n",
    "    Dense(4, activation = 'softmax')\n",
    "])"
   ]
  },
  {
   "cell_type": "code",
   "execution_count": 210,
   "metadata": {},
   "outputs": [],
   "source": [
    "model.compile(optimizer='adam', loss='sparse_categorical_crossentropy', metrics=['accuracy'])"
   ]
  },
  {
   "cell_type": "code",
   "execution_count": 211,
   "metadata": {},
   "outputs": [
    {
     "name": "stdout",
     "output_type": "stream",
     "text": [
      "Epoch 1/20\n",
      "\u001b[1m578/578\u001b[0m \u001b[32m━━━━━━━━━━━━━━━━━━━━\u001b[0m\u001b[37m\u001b[0m \u001b[1m6s\u001b[0m 9ms/step - accuracy: 0.8917 - loss: 1.8449 - val_accuracy: 0.0804 - val_loss: 4.3859\n",
      "Epoch 2/20\n",
      "\u001b[1m578/578\u001b[0m \u001b[32m━━━━━━━━━━━━━━━━━━━━\u001b[0m\u001b[37m\u001b[0m \u001b[1m5s\u001b[0m 9ms/step - accuracy: 0.6782 - loss: 1.0485 - val_accuracy: 0.0845 - val_loss: 4.4432\n",
      "Epoch 3/20\n",
      "\u001b[1m578/578\u001b[0m \u001b[32m━━━━━━━━━━━━━━━━━━━━\u001b[0m\u001b[37m\u001b[0m \u001b[1m5s\u001b[0m 8ms/step - accuracy: 0.7514 - loss: 1.0961 - val_accuracy: 0.0840 - val_loss: 5.9185\n",
      "Epoch 4/20\n",
      "\u001b[1m578/578\u001b[0m \u001b[32m━━━━━━━━━━━━━━━━━━━━\u001b[0m\u001b[37m\u001b[0m \u001b[1m5s\u001b[0m 9ms/step - accuracy: 0.8018 - loss: 0.6709 - val_accuracy: 0.0848 - val_loss: 5.5835\n",
      "Epoch 5/20\n",
      "\u001b[1m578/578\u001b[0m \u001b[32m━━━━━━━━━━━━━━━━━━━━\u001b[0m\u001b[37m\u001b[0m \u001b[1m5s\u001b[0m 9ms/step - accuracy: 0.8392 - loss: 0.6054 - val_accuracy: 0.0753 - val_loss: 6.6885\n",
      "Epoch 6/20\n",
      "\u001b[1m578/578\u001b[0m \u001b[32m━━━━━━━━━━━━━━━━━━━━\u001b[0m\u001b[37m\u001b[0m \u001b[1m5s\u001b[0m 9ms/step - accuracy: 0.7850 - loss: 0.8240 - val_accuracy: 0.0834 - val_loss: 5.8656\n",
      "Epoch 7/20\n",
      "\u001b[1m578/578\u001b[0m \u001b[32m━━━━━━━━━━━━━━━━━━━━\u001b[0m\u001b[37m\u001b[0m \u001b[1m5s\u001b[0m 9ms/step - accuracy: 0.7853 - loss: 1.0084 - val_accuracy: 0.0880 - val_loss: 7.3008\n",
      "Epoch 8/20\n",
      "\u001b[1m578/578\u001b[0m \u001b[32m━━━━━━━━━━━━━━━━━━━━\u001b[0m\u001b[37m\u001b[0m \u001b[1m5s\u001b[0m 9ms/step - accuracy: 0.8141 - loss: 0.9325 - val_accuracy: 0.0815 - val_loss: 4.4722\n",
      "Epoch 9/20\n",
      "\u001b[1m578/578\u001b[0m \u001b[32m━━━━━━━━━━━━━━━━━━━━\u001b[0m\u001b[37m\u001b[0m \u001b[1m5s\u001b[0m 9ms/step - accuracy: 0.8044 - loss: 0.7915 - val_accuracy: 0.0818 - val_loss: 6.7571\n",
      "Epoch 10/20\n",
      "\u001b[1m578/578\u001b[0m \u001b[32m━━━━━━━━━━━━━━━━━━━━\u001b[0m\u001b[37m\u001b[0m \u001b[1m5s\u001b[0m 9ms/step - accuracy: 0.8061 - loss: 0.7638 - val_accuracy: 0.0769 - val_loss: 4.7894\n",
      "Epoch 11/20\n",
      "\u001b[1m578/578\u001b[0m \u001b[32m━━━━━━━━━━━━━━━━━━━━\u001b[0m\u001b[37m\u001b[0m \u001b[1m5s\u001b[0m 9ms/step - accuracy: 0.7660 - loss: 0.9455 - val_accuracy: 0.0745 - val_loss: 4.0709\n",
      "Epoch 12/20\n",
      "\u001b[1m578/578\u001b[0m \u001b[32m━━━━━━━━━━━━━━━━━━━━\u001b[0m\u001b[37m\u001b[0m \u001b[1m5s\u001b[0m 9ms/step - accuracy: 0.7557 - loss: 0.8296 - val_accuracy: 0.0804 - val_loss: 8.0332\n",
      "Epoch 13/20\n",
      "\u001b[1m578/578\u001b[0m \u001b[32m━━━━━━━━━━━━━━━━━━━━\u001b[0m\u001b[37m\u001b[0m \u001b[1m5s\u001b[0m 9ms/step - accuracy: 0.8531 - loss: 0.8397 - val_accuracy: 0.0802 - val_loss: 5.5496\n",
      "Epoch 14/20\n",
      "\u001b[1m578/578\u001b[0m \u001b[32m━━━━━━━━━━━━━━━━━━━━\u001b[0m\u001b[37m\u001b[0m \u001b[1m5s\u001b[0m 9ms/step - accuracy: 0.8197 - loss: 0.5828 - val_accuracy: 0.0826 - val_loss: 4.6800\n",
      "Epoch 15/20\n",
      "\u001b[1m578/578\u001b[0m \u001b[32m━━━━━━━━━━━━━━━━━━━━\u001b[0m\u001b[37m\u001b[0m \u001b[1m5s\u001b[0m 9ms/step - accuracy: 0.7294 - loss: 0.9841 - val_accuracy: 0.0728 - val_loss: 3.8929\n",
      "Epoch 16/20\n",
      "\u001b[1m578/578\u001b[0m \u001b[32m━━━━━━━━━━━━━━━━━━━━\u001b[0m\u001b[37m\u001b[0m \u001b[1m5s\u001b[0m 9ms/step - accuracy: 0.6981 - loss: 0.9222 - val_accuracy: 0.0783 - val_loss: 6.2758\n",
      "Epoch 17/20\n",
      "\u001b[1m578/578\u001b[0m \u001b[32m━━━━━━━━━━━━━━━━━━━━\u001b[0m\u001b[37m\u001b[0m \u001b[1m5s\u001b[0m 9ms/step - accuracy: 0.8428 - loss: 0.7599 - val_accuracy: 0.0853 - val_loss: 4.5446\n",
      "Epoch 18/20\n",
      "\u001b[1m578/578\u001b[0m \u001b[32m━━━━━━━━━━━━━━━━━━━━\u001b[0m\u001b[37m\u001b[0m \u001b[1m5s\u001b[0m 9ms/step - accuracy: 0.7433 - loss: 0.8902 - val_accuracy: 0.0796 - val_loss: 4.1900\n",
      "Epoch 19/20\n",
      "\u001b[1m578/578\u001b[0m \u001b[32m━━━━━━━━━━━━━━━━━━━━\u001b[0m\u001b[37m\u001b[0m \u001b[1m6s\u001b[0m 10ms/step - accuracy: 0.7418 - loss: 0.9084 - val_accuracy: 0.0791 - val_loss: 3.6981\n",
      "Epoch 20/20\n",
      "\u001b[1m578/578\u001b[0m \u001b[32m━━━━━━━━━━━━━━━━━━━━\u001b[0m\u001b[37m\u001b[0m \u001b[1m5s\u001b[0m 9ms/step - accuracy: 0.6834 - loss: 0.9219 - val_accuracy: 0.0804 - val_loss: 4.1112\n"
     ]
    },
    {
     "data": {
      "text/plain": [
       "<keras.src.callbacks.history.History at 0x27c0327c8f0>"
      ]
     },
     "execution_count": 211,
     "metadata": {},
     "output_type": "execute_result"
    }
   ],
   "source": [
    "model.fit(train_ds, validation_data = val_ds, epochs=20)"
   ]
  },
  {
   "cell_type": "code",
   "execution_count": 217,
   "metadata": {},
   "outputs": [
    {
     "name": "stdout",
     "output_type": "stream",
     "text": [
      "class = 3 conf= 0.9546136\n"
     ]
    },
    {
     "data": {
      "image/png": "[encoded data removed]",
      "text/plain": [
       "<Figure size 640x480 with 1 Axes>"
      ]
     },
     "metadata": {},
     "output_type": "display_data"
    }
   ],
   "source": [
    "for x, y in test_ds.shuffle(1000).as_numpy_iterator():\n",
    "    show_img(x , y)\n",
    "    x = x.reshape(1, 48, 48, 1)\n",
    "    predictions = model.predict(x, verbose=0)\n",
    "    # Get predicted class and confidence\n",
    "    predicted_class = np.argmax(predictions[0])\n",
    "    confidence = predictions[0][predicted_class]\n",
    "    print('class =', predicted_class, 'conf=' , confidence)\n",
    "    break\n",
    "\n",
    "\n",
    "# x = x.reshape(1, 28, 56, 1)\n",
    "# predictions = model.predict(x, verbose=0)\n",
    "# Get predicted class and confidence\n",
    "# predicted_class = np.argmax(predictions[0])\n",
    "# confidence = predictions[0][predicted_class]\n",
    "# print('class =', predicted_class, 'conf=' , confidence)"
   ]
  },
  {
   "cell_type": "code",
   "execution_count": null,
   "metadata": {},
   "outputs": [],
   "source": []
  }
 ],
 "metadata": {
  "kernelspec": {
   "display_name": "venv",
   "language": "python",
   "name": "python3"
  },
  "language_info": {
   "codemirror_mode": {
    "name": "ipython",
    "version": 3
   },
   "file_extension": ".py",
   "mimetype": "text/x-python",
   "name": "python",
   "nbconvert_exporter": "python",
   "pygments_lexer": "ipython3",
   "version": "3.12.4"
  }
 },
 "nbformat": 4,
 "nbformat_minor": 2
}
