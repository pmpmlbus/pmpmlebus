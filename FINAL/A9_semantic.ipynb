{
 "cells": [
  {
   "cell_type": "code",
   "execution_count": 1,
   "metadata": {},
   "outputs": [],
   "source": [
    "import os\n",
    "import numpy as np\n",
    "from tensorflow.keras.models import Sequential\n",
    "from tensorflow.keras.layers import Dense, Flatten, Dropout, Conv2D, MaxPooling2D, UpSampling2D,Input,concatenate\n",
    "from tensorflow.keras.preprocessing.image import ImageDataGenerator\n",
    "from tensorflow.keras.optimizers import Adam\n",
    "from tensorflow.keras.preprocessing.image import load_img, img_to_array\n",
    "from tensorflow.keras.utils import to_categorical\n",
    "from sklearn.model_selection import train_test_split\n",
    "import tensorflow as tf\n"
   ]
  },
  {
   "cell_type": "code",
   "execution_count": 2,
   "metadata": {},
   "outputs": [],
   "source": [
    "images = r\"D:\\Balance\\College and Studies\\TY\\CV & DL Lab\\CVDL Dataset\\semantic segmentation\\Images\"\n",
    "labels = r\"D:\\Balance\\College and Studies\\TY\\CV & DL Lab\\CVDL Dataset\\semantic segmentation\\Labels\""
   ]
  },
  {
   "cell_type": "code",
   "execution_count": 3,
   "metadata": {},
   "outputs": [],
   "source": [
    "def load_images_and_masks(image_dir, label_dir, image_size):\n",
    "    images = []\n",
    "    masks = []\n",
    "    image_files = sorted(os.listdir(image_dir))  # Sort to ensure matching order\n",
    "    label_files = sorted(os.listdir(label_dir))  # Sort to ensure matching order\n",
    "\n",
    "    for img_file, mask_file in zip(image_files, label_files):\n",
    "        # Load and preprocess image\n",
    "        img_path = os.path.join(image_dir, img_file)\n",
    "        mask_path = os.path.join(label_dir, mask_file)\n",
    "\n",
    "        img = load_img(img_path, target_size=image_size)\n",
    "        mask = load_img(mask_path, target_size=image_size, color_mode=\"grayscale\")\n",
    "\n",
    "        images.append(img_to_array(img) / 255.0)  # Normalize images to [0, 1]\n",
    "        masks.append(img_to_array(mask) / 255.0)  # Normalize masks to [0, 1]\n",
    "\n",
    "    return np.array(images), np.array(masks)\n",
    "\n",
    "images, masks = load_images_and_masks(images, labels, (128,128))"
   ]
  },
  {
   "cell_type": "code",
   "execution_count": 4,
   "metadata": {},
   "outputs": [],
   "source": [
    "num_classes = 2\n",
    "masks = np.round(masks).astype(\"int\")  # Ensure masks are binary\n",
    "masks = to_categorical(masks, num_classes=num_classes)"
   ]
  },
  {
   "cell_type": "code",
   "execution_count": 5,
   "metadata": {},
   "outputs": [
    {
     "name": "stdout",
     "output_type": "stream",
     "text": [
      "(179, 128, 128, 2)\n"
     ]
    }
   ],
   "source": [
    "print(masks.shape)"
   ]
  },
  {
   "cell_type": "code",
   "execution_count": 6,
   "metadata": {},
   "outputs": [],
   "source": [
    "X_train, X_val, y_train, y_val = train_test_split(images, masks, test_size=0.2, random_state=42)"
   ]
  },
  {
   "cell_type": "code",
   "execution_count": 7,
   "metadata": {},
   "outputs": [
    {
     "name": "stdout",
     "output_type": "stream",
     "text": [
      "(143, 128, 128, 3)\n",
      "(36, 128, 128, 3)\n",
      "(143, 128, 128, 2)\n"
     ]
    }
   ],
   "source": [
    "print(X_train.shape)\n",
    "print(X_val.shape)\n",
    "print(y_train.shape)"
   ]
  },
  {
   "cell_type": "code",
   "execution_count": 8,
   "metadata": {},
   "outputs": [],
   "source": [
    "def unet_model(input_size=(128, 128, 3), num_classes=num_classes):\n",
    "    inputs = Input(input_size)\n",
    "    \n",
    "    c1 = Conv2D(64, (3, 3), activation='relu', padding='same')(inputs)\n",
    "    c1 = Conv2D(64, (3, 3), activation='relu', padding='same')(c1)\n",
    "    p1 = MaxPooling2D((2, 2))(c1)\n",
    "    \n",
    "    c2 = Conv2D(128, (3, 3), activation='relu', padding='same')(p1)\n",
    "    c2 = Conv2D(128, (3, 3), activation='relu', padding='same')(c2)\n",
    "    p2 = MaxPooling2D((2, 2))(c2)\n",
    "    \n",
    "    c3 = Conv2D(256, (3, 3), activation='relu', padding='same')(p2)\n",
    "    c3 = Conv2D(256, (3, 3), activation='relu', padding='same')(c3)\n",
    "    p3 = MaxPooling2D((2, 2))(c3)\n",
    "    \n",
    "    c4 = Conv2D(512, (3, 3), activation='relu', padding='same')(p3)\n",
    "    c4 = Conv2D(512, (3, 3), activation='relu', padding='same')(c4)\n",
    "    p4 = MaxPooling2D((2, 2))(c4)\n",
    "    \n",
    "    # Bottleneck\n",
    "    c5 = Conv2D(1024, (3, 3), activation='relu', padding='same')(p4)\n",
    "    c5 = Conv2D(1024, (3, 3), activation='relu', padding='same')(c5)\n",
    "    \n",
    "    # Decoder (Expanding Path)\n",
    "    u6 = UpSampling2D((2, 2))(c5)\n",
    "    u6 = concatenate([u6, c4])\n",
    "    c6 = Conv2D(512, (3, 3), activation='relu', padding='same')(u6)\n",
    "    c6 = Conv2D(512, (3, 3), activation='relu', padding='same')(c6)\n",
    "    \n",
    "    u7 = UpSampling2D((2, 2))(c6)\n",
    "    u7 = concatenate([u7, c3])\n",
    "    c7 = Conv2D(256, (3, 3), activation='relu', padding='same')(u7)\n",
    "    c7 = Conv2D(256, (3, 3), activation='relu', padding='same')(c7)\n",
    "    \n",
    "    u8 = UpSampling2D((2, 2))(c7)\n",
    "    u8 = concatenate([u8, c2])\n",
    "    c8 = Conv2D(128, (3, 3), activation='relu', padding='same')(u8)\n",
    "    c8 = Conv2D(128, (3, 3), activation='relu', padding='same')(c8)\n",
    "    \n",
    "    u9 = UpSampling2D((2, 2))(c8)\n",
    "    u9 = concatenate([u9, c1])\n",
    "    c9 = Conv2D(64, (3, 3), activation='relu', padding='same')(u9)\n",
    "    c9 = Conv2D(64, (3, 3), activation='relu', padding='same')(c9)\n",
    "    \n",
    "    outputs = Conv2D(num_classes, (1, 1), activation='softmax')(c9)\n",
    "    \n",
    "    model = tf.keras.Model(inputs=inputs, outputs=outputs)\n",
    "    return model\n",
    "\n",
    "# Instantiate the model\n",
    "model = unet_model(input_size=(128, 128, 3))\n",
    "\n"
   ]
  },
  {
   "cell_type": "code",
   "execution_count": 9,
   "metadata": {},
   "outputs": [
    {
     "name": "stdout",
     "output_type": "stream",
     "text": [
      "\u001b[1m5/5\u001b[0m \u001b[32m━━━━━━━━━━━━━━━━━━━━\u001b[0m\u001b[37m\u001b[0m \u001b[1m44s\u001b[0m 7s/step - accuracy: 0.5750 - loss: 0.7141 - val_accuracy: 0.5819 - val_loss: 0.7120\n"
     ]
    }
   ],
   "source": [
    "\n",
    "\n",
    "# Compile Model\n",
    "model.compile(optimizer=Adam(learning_rate=0.001), loss=\"categorical_crossentropy\", metrics=[\"accuracy\"])\n",
    "\n",
    "# Train Model\n",
    "history = model.fit(\n",
    "    X_train, y_train,\n",
    "    validation_data=(X_val, y_val),\n",
    "    batch_size=32,\n",
    "    epochs=1\n",
    ")"
   ]
  },
  {
   "cell_type": "code",
   "execution_count": 11,
   "metadata": {},
   "outputs": [
    {
     "name": "stdout",
     "output_type": "stream",
     "text": [
      "\u001b[1m1/1\u001b[0m \u001b[32m━━━━━━━━━━━━━━━━━━━━\u001b[0m\u001b[37m\u001b[0m \u001b[1m0s\u001b[0m 231ms/step\n"
     ]
    },
    {
     "data": {
      "image/png": "[encoded data removed]",
      "text/plain": [
       "<Figure size 1500x500 with 3 Axes>"
      ]
     },
     "metadata": {},
     "output_type": "display_data"
    }
   ],
   "source": [
    "import matplotlib.pyplot as plt\n",
    "import numpy as np\n",
    "\n",
    "# Randomly select an image from X_val\n",
    "random_index = 4\n",
    "random_image = X_val[random_index]\n",
    "random_image = np.expand_dims(random_image / 255.0, axis=0)  # Normalize image\n",
    "\n",
    "# Predict segmentation mask\n",
    "predicted_mask = model.predict(random_image)  # Output shape: (1, height, width, num_classes)\n",
    "predicted_mask = np.argmax(predicted_mask, axis=-1)  # Convert softmax to class indices\n",
    "predicted_mask = predicted_mask.squeeze()  # Remove batch dimension\n",
    "\n",
    "# Display the original image, true mask, and predicted mask\n",
    "plt.figure(figsize=(15, 5))\n",
    "\n",
    "# Original Image\n",
    "plt.subplot(1, 3, 1)\n",
    "plt.imshow(random_image.squeeze(), cmap='gray')\n",
    "plt.title(\"Original Image\")\n",
    "plt.axis('off')\n",
    "\n",
    "# Ground Truth Mask\n",
    "plt.subplot(1, 3, 2)\n",
    "true_mask = y_val[random_index]  # Ground truth mask\n",
    "# Check if true_mask has multiple channels (multi-class)\n",
    "if true_mask.shape[-1] > 1:  # Check if the mask has more than one channel\n",
    "    true_mask = np.argmax(true_mask, axis=-1)  # Convert to single class (for display)\n",
    "    true_mask = np.expand_dims(true_mask, axis=-1)  # Ensure it has the correct shape for display\n",
    "\n",
    "plt.imshow(true_mask.squeeze(), cmap='viridis')  # Better colormap for class labels\n",
    "plt.title(\"Ground Truth Mask\")\n",
    "plt.axis('off')\n",
    "\n",
    "# Predicted Mask\n",
    "plt.subplot(1, 3, 3)\n",
    "plt.imshow(predicted_mask, cmap='viridis')\n",
    "plt.title(\"Predicted Mask\")\n",
    "plt.axis('off')\n",
    "\n",
    "plt.tight_layout()\n",
    "plt.show()\n"
   ]
  },
  {
   "cell_type": "code",
   "execution_count": null,
   "metadata": {},
   "outputs": [],
   "source": []
  },
  {
   "cell_type": "code",
   "execution_count": null,
   "metadata": {},
   "outputs": [],
   "source": []
  }
 ],
 "metadata": {
  "kernelspec": {
   "display_name": "cvdl_prac",
   "language": "python",
   "name": "cvdl_prac"
  },
  "language_info": {
   "codemirror_mode": {
    "name": "ipython",
    "version": 3
   },
   "file_extension": ".py",
   "mimetype": "text/x-python",
   "name": "python",
   "nbconvert_exporter": "python",
   "pygments_lexer": "ipython3",
   "version": "3.11.4"
  }
 },
 "nbformat": 4,
 "nbformat_minor": 4
}
